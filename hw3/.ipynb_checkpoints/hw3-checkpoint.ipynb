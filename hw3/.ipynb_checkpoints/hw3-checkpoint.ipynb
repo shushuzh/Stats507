{
 "cells": [
  {
   "cell_type": "markdown",
   "id": "08052967",
   "metadata": {},
   "source": [
    "# Import"
   ]
  },
  {
   "cell_type": "code",
   "execution_count": 1,
   "id": "fef6fa41",
   "metadata": {},
   "outputs": [],
   "source": [
    "# modules: --------------------------------------------------------------------\n",
    "import numpy as np\n",
    "import pandas as pd\n",
    "from timeit import Timer\n",
    "#from collections import defaultdict\n",
    "from IPython.core.display import display, HTML\n",
    "import math\n",
    "import matplotlib.pyplot as plt \n",
    "import matplotlib as mpl\n",
    "# 79: -------------------------------------------------------------------------"
   ]
  },
  {
   "cell_type": "markdown",
   "id": "a7ae5efa",
   "metadata": {},
   "source": [
    "# Question 0\n",
    "\n",
    "## Data Files\n",
    " - RECS microdata file for 2009 is [here](https://www.eia.gov/consumption/residential/data/2009/csv/recs2009_public.csv);\n",
    " - Weight file for RECS microdata in 2009 is [here](https://www.eia.gov/consumption/residential/data/2009/csv/recs2009_public_repweights.csv);\n",
    " - RECS microdata file for 2015 is [here](https://www.eia.gov/consumption/residential/data/2015/csv/recs2015_public_v4.csv)."
   ]
  },
  {
   "cell_type": "code",
   "execution_count": 2,
   "id": "07c378f1",
   "metadata": {},
   "outputs": [
    {
     "name": "stderr",
     "output_type": "stream",
     "text": [
      "/Users/shushuz/opt/anaconda3/envs/507/lib/python3.9/site-packages/IPython/core/interactiveshell.py:3441: DtypeWarning: Columns (717,718) have mixed types.Specify dtype option on import or set low_memory=False.\n",
      "  exec(code_obj, self.user_global_ns, self.user_ns)\n"
     ]
    }
   ],
   "source": [
    "mic_2009 = pd.read_csv(\\\n",
    "    \"https://www.eia.gov/consumption/residential/data/2009/csv/recs2009_public.csv\")\n",
    "weight_2009 = pd.read_csv(\\\n",
    "    \"https://www.eia.gov/consumption/residential/data/2009/csv/recs2009_public_repweights.csv\")\n",
    "mic_2015 = pd.read_csv(\\\n",
    "    \"https://www.eia.gov/consumption/residential/data/2015/csv/recs2015_public_v4.csv\")"
   ]
  },
  {
   "cell_type": "markdown",
   "id": "1140e0ef",
   "metadata": {},
   "source": [
    "## Variables"
   ]
  },
  {
   "cell_type": "code",
   "execution_count": 3,
   "id": "93023dd9",
   "metadata": {},
   "outputs": [],
   "source": [
    "#Basic Variables (excluding replicated weights)\n",
    "variables = [\n",
    "\"DOEID\",  #unit ID\n",
    "\"REGIONC\", #Census region\n",
    "\"NWEIGHT\", #final sample weight\n",
    "\"HDD65\", #heating degree days\n",
    "\"CDD65\" #cooling degree days\n",
    "#\"BRRWT.*\" #weights\n",
    "]"
   ]
  },
  {
   "cell_type": "code",
   "execution_count": 4,
   "id": "ab318ea3",
   "metadata": {},
   "outputs": [
    {
     "name": "stdout",
     "output_type": "stream",
     "text": [
      "   DOEID  REGIONC   NWEIGHT  HDD65  CDD65  brr_weight_1  brr_weight_2  \\\n",
      "0      1        2   2471.68   4742   1080   3628.305158   1392.373673   \n",
      "1      2        4   8599.17   2662    199   4408.308000   4247.696575   \n",
      "2      3        1   8969.92   6233    505  13664.732100  13655.213030   \n",
      "3      4        2  18003.64   6034    672   9456.435434  25723.464490   \n",
      "4      5        1   5999.61   5388    702   8659.554041   3269.734038   \n",
      "\n",
      "   brr_weight_3  brr_weight_4  brr_weight_5  ...  brr_weight_235  \\\n",
      "0   1271.181424   3528.052756   3478.045539  ...     1390.318940   \n",
      "1   4450.561135  13207.910560   4178.691121  ...    12811.288200   \n",
      "2   4359.190122  13086.068610  13721.970010  ...    12170.897940   \n",
      "3  25125.994190   9334.577574  28340.387380  ...     8519.486929   \n",
      "4   2910.690905   2798.774832   8544.785536  ...     2648.413487   \n",
      "\n",
      "   brr_weight_236  brr_weight_237  brr_weight_238  brr_weight_239  \\\n",
      "0     1134.968007     1195.730023     1304.300183     1248.137817   \n",
      "1     4236.006271    12779.722250    12680.646870    13172.272250   \n",
      "2    12829.708110    13637.133920    13098.702000    12569.565770   \n",
      "3    24214.978000     9840.195847    26856.650810    25453.890870   \n",
      "4     7770.479222     3206.892604     8274.644460     2920.173900   \n",
      "\n",
      "   brr_weight_240  brr_weight_241  brr_weight_242  brr_weight_243  \\\n",
      "0     1230.150977     1157.195411     1156.412430     1240.217824   \n",
      "1    13656.849190     4246.979562    13134.213440    12624.316870   \n",
      "2    14155.301240     5008.801785     5256.419281    13201.724800   \n",
      "3     8483.396618    26383.441980    26510.027830    27188.612470   \n",
      "4     3005.523507     9469.217579     3427.954293     3218.392309   \n",
      "\n",
      "   brr_weight_244  \n",
      "0     3655.101693  \n",
      "1    12846.242170  \n",
      "2     4812.600110  \n",
      "3     9534.025088  \n",
      "4     3251.371247  \n",
      "\n",
      "[5 rows x 249 columns]\n",
      "   DOEID  REGIONC      NWEIGHT        BRRWT1       BRRWT2        BRRWT3  \\\n",
      "0  10001        4  12085.16227  16555.311270   5938.01432  17725.586130   \n",
      "1  10002        3  14410.19627  21486.287200  19146.97576   7320.376426   \n",
      "2  10003        3  23325.95385  12297.436760  36659.75410  10476.219890   \n",
      "3  10004        2  12165.33319  18553.958900   5209.14182  18041.476220   \n",
      "4  10005        1  16717.67092   8075.744168   8427.25297   8335.558070   \n",
      "\n",
      "         BRRWT4        BRRWT5        BRRWT6        BRRWT7  ...       BRRWT90  \\\n",
      "0  17635.591890   6032.801451  17095.360910   6003.357148  ...   5517.709915   \n",
      "1  23567.851140  21926.553690   7477.377341  21544.003860  ...   7492.123251   \n",
      "2  10101.943890  10291.103550  39732.041450  11547.831520  ...  10544.423260   \n",
      "3   5441.767166   5815.605741   4936.011019  22136.115010  ...  23766.895060   \n",
      "4  23666.443320   7674.487936  25586.815170  23442.035600  ...   8370.279068   \n",
      "\n",
      "        BRRWT91       BRRWT92       BRRWT93       BRRWT94       BRRWT95  \\\n",
      "0  17812.843780  17483.082270  17135.621950   7305.993889   6311.888542   \n",
      "1  21567.223970   8028.529581   6600.738777   7242.986668  21107.678130   \n",
      "2  34614.138570  33074.557180  10837.952370  37756.113570   9673.744170   \n",
      "3   4923.027005   6302.793694   5957.332269  16923.546670   5483.991936   \n",
      "4   7832.979692   8760.150361  25890.093890  24907.847570  26484.615690   \n",
      "\n",
      "        BRRWT96  CDD65  HDD65  GNDHDD65  \n",
      "0   6200.077879   1768   2031   1666.36  \n",
      "1  21255.526830   2795   1915    871.92  \n",
      "2  11342.911240   2235   2263   1860.23  \n",
      "3   5123.054425   1374   3754   3354.35  \n",
      "4   8290.542370    993   5401   5461.22  \n",
      "\n",
      "[5 rows x 102 columns]\n"
     ]
    }
   ],
   "source": [
    "#2009\n",
    "remain_2009 = mic_2009[variables]\n",
    "weight_2009 = weight_2009.drop(columns=\"NWEIGHT\")\n",
    "df_09 = pd.merge(remain_2009, weight_2009, on=\"DOEID\")\n",
    "print(df_09.head())\n",
    "#2015\n",
    "regex_stm = r\"DOEID|REGIONC|NWEIGHT|HDD65|CDD65|BRRWT.*\"\n",
    "df_15 = mic_2015.filter(regex=regex_stm, axis=1)\n",
    "print(df_15.head())\n",
    "#Export data\n",
    "df_09.to_pickle('mic_09.pkl')\n",
    "df_09.to_pickle('mic_15.pkl')"
   ]
  },
  {
   "cell_type": "markdown",
   "id": "5945802d",
   "metadata": {},
   "source": [
    "## Weights and Replicate Weights\n",
    "The instruction for using replicate weights is [here](https://www.eia.gov/consumption/residential/data/2015/pdf/microdata_v3.pdf) (Microdata, 2015). \n",
    "\n",
    "The estimate of standard error (for weighted point estimate) is \n",
    "$$\n",
    "\\sqrt{\\frac{1}{R(1-\\epsilon)^2}\\sum_{r=1}^R (\\hat{\\theta_r}-\\hat{\\theta})^2}\n",
    "$$\n",
    "where $\\theta$ is a population parameter of interest; $\\hat{\\theta}$ is the estimate from the full sample for $\\theta$; $\\hat{\\theta_r}$ is the estimate from the r-th replicate subsample by using replicate weights; and $\\epsilon$ be the Fay coefficient, $0 \\leq \\epsilon <1$. For both of the dataset, $\\epsilon = 0.5$."
   ]
  },
  {
   "cell_type": "markdown",
   "id": "c8d7a637",
   "metadata": {},
   "source": [
    "# Question 1"
   ]
  },
  {
   "cell_type": "markdown",
   "id": "4c3ce366",
   "metadata": {},
   "source": [
    "## (a)\n",
    "I keep the variables for \"unit ID, Census region, final sample weight, heating degree days, cooling degree days\" for both datasets. And I change \"unit ID\" and \"census region\" to categorical variables.  "
   ]
  },
  {
   "cell_type": "code",
   "execution_count": 5,
   "id": "822b7ec9",
   "metadata": {},
   "outputs": [
    {
     "name": "stdout",
     "output_type": "stream",
     "text": [
      "ids       category\n",
      "region    category\n",
      "weight     Float64\n",
      "heat         Int64\n",
      "cool         Int64\n",
      "dtype: object\n",
      "  ids region    weight  heat  cool\n",
      "0   1      2   2471.68  4742  1080\n",
      "1   2      4   8599.17  2662   199\n",
      "2   3      1   8969.92  6233   505\n",
      "3   4      2  18003.64  6034   672\n",
      "4   5      1   5999.61  5388   702\n"
     ]
    }
   ],
   "source": [
    "# Change the variable names to be more literate\n",
    "remain_2009 = remain_2009.rename(columns={\n",
    "                            \"DOEID\":\"ids\",  #unit ID\n",
    "                            \"REGIONC\":\"region\", #Census region\n",
    "                            \"NWEIGHT\":\"weight\", #final sample weight\n",
    "                            \"HDD65\":\"heat\", #heating degree days\n",
    "                            \"CDD65\":\"cool\" #cooling degree days\n",
    "                            })\n",
    "# convert the data type to proper ones\n",
    "remain_2009 = remain_2009.convert_dtypes()\n",
    "# change \"unit ID\" and \"census region\" to categorical variables\n",
    "for var in ['ids', 'region']:\n",
    "    remain_2009[var] = pd.Categorical(remain_2009[var]) \n",
    "print(remain_2009.dtypes)\n",
    "print(remain_2009.head())"
   ]
  },
  {
   "cell_type": "code",
   "execution_count": 6,
   "id": "189ecfca",
   "metadata": {},
   "outputs": [
    {
     "name": "stdout",
     "output_type": "stream",
     "text": [
      "ids       category\n",
      "region    category\n",
      "weight     Float64\n",
      "heat         Int64\n",
      "cool         Int64\n",
      "dtype: object\n",
      "     ids region       weight  heat  cool\n",
      "0  10001      4  12085.16227  2031  1768\n",
      "1  10002      3  14410.19627  1915  2795\n",
      "2  10003      3  23325.95385  2263  2235\n",
      "3  10004      2  12165.33319  3754  1374\n",
      "4  10005      1  16717.67092  5401   993\n"
     ]
    }
   ],
   "source": [
    "# Change the variable names to be more literate\n",
    "remain_2015 = mic_2015[variables]\n",
    "remain_2015 = remain_2015.rename(columns={\n",
    "                            \"DOEID\":\"ids\",  #unit ID\n",
    "                            \"REGIONC\":\"region\", #Census region\n",
    "                            \"NWEIGHT\":\"weight\", #final sample weight\n",
    "                            \"HDD65\":\"heat\", #heating degree days\n",
    "                            \"CDD65\":\"cool\" #cooling degree days\n",
    "                            })\n",
    "# convert the data type to proper ones\n",
    "remain_2015 = remain_2015.convert_dtypes()\n",
    "# change \"unit ID\" and \"census region\" to categorical variables\n",
    "for var in ['ids', 'region']:\n",
    "    remain_2015[var] = pd.Categorical(remain_2015[var]) \n",
    "print(remain_2015.dtypes)\n",
    "print(remain_2015.head())"
   ]
  },
  {
   "cell_type": "markdown",
   "id": "0b57cb51",
   "metadata": {},
   "source": [
    "## (b)\n",
    "\n",
    "### Long Format for 2009 Data"
   ]
  },
  {
   "cell_type": "code",
   "execution_count": 7,
   "id": "75fa6133",
   "metadata": {},
   "outputs": [
    {
     "data": {
      "text/plain": [
       "Index(['ids', 'brr_weight_1', 'brr_weight_2', 'brr_weight_3', 'brr_weight_4',\n",
       "       'brr_weight_5', 'brr_weight_6', 'brr_weight_7', 'brr_weight_8',\n",
       "       'brr_weight_9',\n",
       "       ...\n",
       "       'brr_weight_235', 'brr_weight_236', 'brr_weight_237', 'brr_weight_238',\n",
       "       'brr_weight_239', 'brr_weight_240', 'brr_weight_241', 'brr_weight_242',\n",
       "       'brr_weight_243', 'brr_weight_244'],\n",
       "      dtype='object', length=245)"
      ]
     },
     "execution_count": 7,
     "metadata": {},
     "output_type": "execute_result"
    }
   ],
   "source": [
    "weight_2009 = weight_2009.rename(columns={\"DOEID\":\"ids\"})\n",
    "weight_2009.columns"
   ]
  },
  {
   "cell_type": "code",
   "execution_count": 8,
   "id": "b2cc4f22",
   "metadata": {
    "scrolled": true
   },
   "outputs": [
    {
     "name": "stdout",
     "output_type": "stream",
     "text": [
      "           ids        variable         value\n",
      "0            1    brr_weight_1   3628.305158\n",
      "1            2    brr_weight_1   4408.308000\n",
      "2            3    brr_weight_1  13664.732100\n",
      "3            4    brr_weight_1   9456.435434\n",
      "4            5    brr_weight_1   8659.554041\n",
      "...        ...             ...           ...\n",
      "2948247  12079  brr_weight_244  15669.237850\n",
      "2948248  12080  brr_weight_244   3976.693639\n",
      "2948249  12081  brr_weight_244   2479.082636\n",
      "2948250  12082  brr_weight_244  17663.466590\n",
      "2948251  12083  brr_weight_244   3836.031339\n",
      "\n",
      "[2948252 rows x 3 columns]\n"
     ]
    }
   ],
   "source": [
    "weight_2009_long = pd.melt(weight_2009, \n",
    "                           id_vars=[\"ids\"], \n",
    "                           value_vars=weight_2009.filter(like= 'brr_weight_'))\n",
    "print(weight_2009_long)"
   ]
  },
  {
   "cell_type": "markdown",
   "id": "22a5e76b",
   "metadata": {},
   "source": [
    "### Long Format for 2015 Data"
   ]
  },
  {
   "cell_type": "code",
   "execution_count": 9,
   "id": "947f9b4d",
   "metadata": {},
   "outputs": [
    {
     "data": {
      "text/html": [
       "<div>\n",
       "<style scoped>\n",
       "    .dataframe tbody tr th:only-of-type {\n",
       "        vertical-align: middle;\n",
       "    }\n",
       "\n",
       "    .dataframe tbody tr th {\n",
       "        vertical-align: top;\n",
       "    }\n",
       "\n",
       "    .dataframe thead th {\n",
       "        text-align: right;\n",
       "    }\n",
       "</style>\n",
       "<table border=\"1\" class=\"dataframe\">\n",
       "  <thead>\n",
       "    <tr style=\"text-align: right;\">\n",
       "      <th></th>\n",
       "      <th>ids</th>\n",
       "      <th>BRRWT1</th>\n",
       "      <th>BRRWT2</th>\n",
       "      <th>BRRWT3</th>\n",
       "      <th>BRRWT4</th>\n",
       "      <th>BRRWT5</th>\n",
       "      <th>BRRWT6</th>\n",
       "      <th>BRRWT7</th>\n",
       "      <th>BRRWT8</th>\n",
       "      <th>BRRWT9</th>\n",
       "      <th>...</th>\n",
       "      <th>BRRWT87</th>\n",
       "      <th>BRRWT88</th>\n",
       "      <th>BRRWT89</th>\n",
       "      <th>BRRWT90</th>\n",
       "      <th>BRRWT91</th>\n",
       "      <th>BRRWT92</th>\n",
       "      <th>BRRWT93</th>\n",
       "      <th>BRRWT94</th>\n",
       "      <th>BRRWT95</th>\n",
       "      <th>BRRWT96</th>\n",
       "    </tr>\n",
       "  </thead>\n",
       "  <tbody>\n",
       "    <tr>\n",
       "      <th>0</th>\n",
       "      <td>10001</td>\n",
       "      <td>16555.311270</td>\n",
       "      <td>5938.01432</td>\n",
       "      <td>17725.586130</td>\n",
       "      <td>17635.591890</td>\n",
       "      <td>6032.801451</td>\n",
       "      <td>17095.360910</td>\n",
       "      <td>6003.357148</td>\n",
       "      <td>5994.108691</td>\n",
       "      <td>5403.025438</td>\n",
       "      <td>...</td>\n",
       "      <td>7256.769771</td>\n",
       "      <td>6311.331176</td>\n",
       "      <td>17711.26605</td>\n",
       "      <td>5517.709915</td>\n",
       "      <td>17812.843780</td>\n",
       "      <td>17483.082270</td>\n",
       "      <td>17135.621950</td>\n",
       "      <td>7305.993889</td>\n",
       "      <td>6311.888542</td>\n",
       "      <td>6200.077879</td>\n",
       "    </tr>\n",
       "    <tr>\n",
       "      <th>1</th>\n",
       "      <td>10002</td>\n",
       "      <td>21486.287200</td>\n",
       "      <td>19146.97576</td>\n",
       "      <td>7320.376426</td>\n",
       "      <td>23567.851140</td>\n",
       "      <td>21926.553690</td>\n",
       "      <td>7477.377341</td>\n",
       "      <td>21544.003860</td>\n",
       "      <td>8189.435472</td>\n",
       "      <td>6616.364119</td>\n",
       "      <td>...</td>\n",
       "      <td>7406.650850</td>\n",
       "      <td>23379.950340</td>\n",
       "      <td>22078.41698</td>\n",
       "      <td>7492.123251</td>\n",
       "      <td>21567.223970</td>\n",
       "      <td>8028.529581</td>\n",
       "      <td>6600.738777</td>\n",
       "      <td>7242.986668</td>\n",
       "      <td>21107.678130</td>\n",
       "      <td>21255.526830</td>\n",
       "    </tr>\n",
       "    <tr>\n",
       "      <th>2</th>\n",
       "      <td>10003</td>\n",
       "      <td>12297.436760</td>\n",
       "      <td>36659.75410</td>\n",
       "      <td>10476.219890</td>\n",
       "      <td>10101.943890</td>\n",
       "      <td>10291.103550</td>\n",
       "      <td>39732.041450</td>\n",
       "      <td>11547.831520</td>\n",
       "      <td>12678.450190</td>\n",
       "      <td>38550.936450</td>\n",
       "      <td>...</td>\n",
       "      <td>40354.808950</td>\n",
       "      <td>41459.320100</td>\n",
       "      <td>39725.75446</td>\n",
       "      <td>10544.423260</td>\n",
       "      <td>34614.138570</td>\n",
       "      <td>33074.557180</td>\n",
       "      <td>10837.952370</td>\n",
       "      <td>37756.113570</td>\n",
       "      <td>9673.744170</td>\n",
       "      <td>11342.911240</td>\n",
       "    </tr>\n",
       "    <tr>\n",
       "      <th>3</th>\n",
       "      <td>10004</td>\n",
       "      <td>18553.958900</td>\n",
       "      <td>5209.14182</td>\n",
       "      <td>18041.476220</td>\n",
       "      <td>5441.767166</td>\n",
       "      <td>5815.605741</td>\n",
       "      <td>4936.011019</td>\n",
       "      <td>22136.115010</td>\n",
       "      <td>18412.679840</td>\n",
       "      <td>18910.608180</td>\n",
       "      <td>...</td>\n",
       "      <td>6025.221143</td>\n",
       "      <td>21026.244020</td>\n",
       "      <td>19299.86744</td>\n",
       "      <td>23766.895060</td>\n",
       "      <td>4923.027005</td>\n",
       "      <td>6302.793694</td>\n",
       "      <td>5957.332269</td>\n",
       "      <td>16923.546670</td>\n",
       "      <td>5483.991936</td>\n",
       "      <td>5123.054425</td>\n",
       "    </tr>\n",
       "    <tr>\n",
       "      <th>4</th>\n",
       "      <td>10005</td>\n",
       "      <td>8075.744168</td>\n",
       "      <td>8427.25297</td>\n",
       "      <td>8335.558070</td>\n",
       "      <td>23666.443320</td>\n",
       "      <td>7674.487936</td>\n",
       "      <td>25586.815170</td>\n",
       "      <td>23442.035600</td>\n",
       "      <td>26866.377130</td>\n",
       "      <td>8263.589655</td>\n",
       "      <td>...</td>\n",
       "      <td>27262.892970</td>\n",
       "      <td>7495.743519</td>\n",
       "      <td>24432.42783</td>\n",
       "      <td>8370.279068</td>\n",
       "      <td>7832.979692</td>\n",
       "      <td>8760.150361</td>\n",
       "      <td>25890.093890</td>\n",
       "      <td>24907.847570</td>\n",
       "      <td>26484.615690</td>\n",
       "      <td>8290.542370</td>\n",
       "    </tr>\n",
       "  </tbody>\n",
       "</table>\n",
       "<p>5 rows × 97 columns</p>\n",
       "</div>"
      ],
      "text/plain": [
       "     ids        BRRWT1       BRRWT2        BRRWT3        BRRWT4        BRRWT5  \\\n",
       "0  10001  16555.311270   5938.01432  17725.586130  17635.591890   6032.801451   \n",
       "1  10002  21486.287200  19146.97576   7320.376426  23567.851140  21926.553690   \n",
       "2  10003  12297.436760  36659.75410  10476.219890  10101.943890  10291.103550   \n",
       "3  10004  18553.958900   5209.14182  18041.476220   5441.767166   5815.605741   \n",
       "4  10005   8075.744168   8427.25297   8335.558070  23666.443320   7674.487936   \n",
       "\n",
       "         BRRWT6        BRRWT7        BRRWT8        BRRWT9  ...       BRRWT87  \\\n",
       "0  17095.360910   6003.357148   5994.108691   5403.025438  ...   7256.769771   \n",
       "1   7477.377341  21544.003860   8189.435472   6616.364119  ...   7406.650850   \n",
       "2  39732.041450  11547.831520  12678.450190  38550.936450  ...  40354.808950   \n",
       "3   4936.011019  22136.115010  18412.679840  18910.608180  ...   6025.221143   \n",
       "4  25586.815170  23442.035600  26866.377130   8263.589655  ...  27262.892970   \n",
       "\n",
       "        BRRWT88      BRRWT89       BRRWT90       BRRWT91       BRRWT92  \\\n",
       "0   6311.331176  17711.26605   5517.709915  17812.843780  17483.082270   \n",
       "1  23379.950340  22078.41698   7492.123251  21567.223970   8028.529581   \n",
       "2  41459.320100  39725.75446  10544.423260  34614.138570  33074.557180   \n",
       "3  21026.244020  19299.86744  23766.895060   4923.027005   6302.793694   \n",
       "4   7495.743519  24432.42783   8370.279068   7832.979692   8760.150361   \n",
       "\n",
       "        BRRWT93       BRRWT94       BRRWT95       BRRWT96  \n",
       "0  17135.621950   7305.993889   6311.888542   6200.077879  \n",
       "1   6600.738777   7242.986668  21107.678130  21255.526830  \n",
       "2  10837.952370  37756.113570   9673.744170  11342.911240  \n",
       "3   5957.332269  16923.546670   5483.991936   5123.054425  \n",
       "4  25890.093890  24907.847570  26484.615690   8290.542370  \n",
       "\n",
       "[5 rows x 97 columns]"
      ]
     },
     "execution_count": 9,
     "metadata": {},
     "output_type": "execute_result"
    }
   ],
   "source": [
    "regex_stm = r\"DOEID|BRRWT.*\"\n",
    "weight_2015 = df_15.filter(regex=regex_stm, axis=1)\n",
    "weight_2015 = weight_2015.rename(columns={\"DOEID\":\"ids\"})\n",
    "weight_2015.head()"
   ]
  },
  {
   "cell_type": "code",
   "execution_count": 10,
   "id": "86ef9eef",
   "metadata": {},
   "outputs": [
    {
     "name": "stdout",
     "output_type": "stream",
     "text": [
      "          ids variable         value\n",
      "0       10001   BRRWT1  16555.311270\n",
      "1       10002   BRRWT1  21486.287200\n",
      "2       10003   BRRWT1  12297.436760\n",
      "3       10004   BRRWT1  18553.958900\n",
      "4       10005   BRRWT1   8075.744168\n",
      "...       ...      ...           ...\n",
      "545851  15682  BRRWT96  20183.445250\n",
      "545852  15683  BRRWT96  19681.916720\n",
      "545853  15684  BRRWT96  29148.112150\n",
      "545854  15685  BRRWT96  20695.042680\n",
      "545855  15686  BRRWT96  17836.113110\n",
      "\n",
      "[545856 rows x 3 columns]\n"
     ]
    }
   ],
   "source": [
    "weight_2015_long = pd.melt(weight_2015, \n",
    "                           id_vars=[\"ids\"], \n",
    "                           value_vars=weight_2015.filter(like= 'BRRWT'))\n",
    "print(weight_2015_long)"
   ]
  },
  {
   "cell_type": "markdown",
   "id": "1777d43a",
   "metadata": {},
   "source": [
    "# Question 2"
   ]
  },
  {
   "cell_type": "markdown",
   "id": "019b6316",
   "metadata": {},
   "source": [
    "## (a)"
   ]
  },
  {
   "cell_type": "code",
   "execution_count": 11,
   "id": "c78f0541",
   "metadata": {},
   "outputs": [],
   "source": [
    "com_2009 = pd.merge(remain_2009,weight_2009, on=\"ids\")\n",
    "#print(com_2009.head())\n",
    "com_2015 = pd.merge(remain_2015,weight_2015, on=\"ids\")\n",
    "#print(com_2015.head())"
   ]
  },
  {
   "cell_type": "code",
   "execution_count": 12,
   "id": "9e74597e",
   "metadata": {
    "lines_to_next_cell": 0
   },
   "outputs": [],
   "source": [
    "def point(weight,theta):\n",
    "    \"\"\"\n",
    "    Calculate the weighted point estimate. \n",
    "    \n",
    "    Parameters\n",
    "    ----------\n",
    "    weight : sample weights;\n",
    "    theta: data of which the mean is to be estimated.\n",
    "    \n",
    "    Returns\n",
    "    -------\n",
    "    Weighted point estimator of the data.\n",
    "    \"\"\"\n",
    "    return ((weight*theta).sum()/weight.sum())"
   ]
  },
  {
   "cell_type": "code",
   "execution_count": 13,
   "id": "a57e5e47",
   "metadata": {
    "lines_to_end_of_cell_marker": 2,
    "title": "\"Weighted estimate of cooling degree days:\" + str(point_cool))"
   },
   "outputs": [],
   "source": [
    "def est(df):\n",
    "    \"\"\"\n",
    "    Calculate the weighted point estimate and interval estimate for both heating and cooling days of the dataset. \n",
    "    \n",
    "    Parameters\n",
    "    ----------\n",
    "    df : Dataset.\n",
    "    \n",
    "    Returns\n",
    "    -------\n",
    "    (point estimate for heating, \n",
    "    interval estimate for heating,\n",
    "    point estimate for cooling, \n",
    "    interval estimate for cooling,\n",
    "    standard deviation for heating,\n",
    "    standard deviation for cooling)\n",
    "    \"\"\"\n",
    "    #Point estimate of Heating Days\n",
    "    point_heat = point(df['weight'],df['heat'])\n",
    "    #Point estimate of Cooling Days\n",
    "    point_cool = point(df['weight'],df['cool'])\n",
    "    #Interval estimate of Heating Days\n",
    "    R = df.shape[1]-5\n",
    "    epsilon = 0.5\n",
    "    diff = 0\n",
    "    for i in range(R):\n",
    "        theta_i_heat = point(df.iloc[:,i+5],df['heat'])\n",
    "        diff +=(theta_i_heat-point_heat)**2\n",
    "    sd_heat = math.sqrt(diff/(R*(1-epsilon)**2))\n",
    "    inter_heat = (point_heat - 1.96*sd_heat, point_heat + 1.96*sd_heat)\n",
    "    #Interval estimate of Cooling Days\n",
    "    diff = 0\n",
    "    for i in range(R):\n",
    "        theta_i_cool = point(df.iloc[:,i+5],df['cool'])\n",
    "        diff +=(theta_i_cool-point_cool)**2\n",
    "    sd_cool = math.sqrt(diff/(R*(1-epsilon)**2))\n",
    "    inter_cool = (point_cool - 1.96*sd_cool, point_cool + 1.96*sd_cool)\n",
    "    \n",
    "    return (round(point_heat),(round(inter_heat[0]),round(inter_heat[1])),\n",
    "            #point and interval estimate for heating\n",
    "            round(point_cool),(round(inter_cool[0]),round(inter_cool[1])),\n",
    "            #point and interval estimate for cooling\n",
    "            round(sd_heat),round(sd_cool))#sd"
   ]
  },
  {
   "cell_type": "code",
   "execution_count": 14,
   "id": "36032a34",
   "metadata": {
    "scrolled": true
   },
   "outputs": [
    {
     "data": {
      "text/plain": [
       "region\n",
       "1       (5701, (5632, 5770), 681, (660, 701), 35, 11)\n",
       "2       (6325, (6234, 6417), 661, (632, 690), 47, 15)\n",
       "3    (2697, (2616, 2778), 2208, (2151, 2265), 41, 29)\n",
       "4    (3260, (3093, 3427), 1329, (1270, 1387), 85, 30)\n",
       "dtype: object"
      ]
     },
     "execution_count": 14,
     "metadata": {},
     "output_type": "execute_result"
    }
   ],
   "source": [
    "est_2009 = (\n",
    "com_2009\n",
    ".groupby('region')\n",
    ".apply(est)\n",
    ")\n",
    "est_2009"
   ]
  },
  {
   "cell_type": "code",
   "execution_count": 15,
   "id": "3936e9bf",
   "metadata": {
    "scrolled": true
   },
   "outputs": [
    {
     "name": "stdout",
     "output_type": "stream",
     "text": [
      "      0             1     2             3   4   5\n",
      "1  5701  (5632, 5770)   681    (660, 701)  35  11\n",
      "2  6325  (6234, 6417)   661    (632, 690)  47  15\n",
      "3  2697  (2616, 2778)  2208  (2151, 2265)  41  29\n",
      "4  3260  (3093, 3427)  1329  (1270, 1387)  85  30\n"
     ]
    }
   ],
   "source": [
    "df_2009 = pd.DataFrame(tuple(est_2009), index=['1','2','3','4'])\n",
    "print(df_2009)\n",
    "table_2009 = df_2009.iloc[:,0:4]\n",
    "table_2009.columns = [\n",
    "                    \"Point Estimate for Heating Days\", \n",
    "                    \"Interval Estimate for Heating Days\", \n",
    "                    \"Point Estimate for Cooling Days\", \n",
    "                    \"Interval Estimate for Cooling Days\"]\n",
    "table_2009.index.name = \"region\"\n",
    "#print(table_2009)"
   ]
  },
  {
   "cell_type": "code",
   "execution_count": 16,
   "id": "c9844a01",
   "metadata": {},
   "outputs": [
    {
     "data": {
      "text/html": [
       "<table border=\"1\" class=\"dataframe\">\n",
       "\n",
       "<b> Table 1.</b> <em> Point and Interval Estimate for Heating and Cooling Degree Days in 2009.</em>\n",
       "\n",
       "  <thead>\n",
       "    <tr style=\"text-align: right;\">\n",
       "      <th></th>\n",
       "      <th>Point Estimate for Heating Days</th>\n",
       "      <th>Interval Estimate for Heating Days</th>\n",
       "      <th>Point Estimate for Cooling Days</th>\n",
       "      <th>Interval Estimate for Cooling Days</th>\n",
       "    </tr>\n",
       "    <tr>\n",
       "      <th>region</th>\n",
       "      <th></th>\n",
       "      <th></th>\n",
       "      <th></th>\n",
       "      <th></th>\n",
       "    </tr>\n",
       "  </thead>\n",
       "  <tbody>\n",
       "    <tr>\n",
       "      <th>1</th>\n",
       "      <td>5701</td>\n",
       "      <td>(5632, 5770)</td>\n",
       "      <td>681</td>\n",
       "      <td>(660, 701)</td>\n",
       "    </tr>\n",
       "    <tr>\n",
       "      <th>2</th>\n",
       "      <td>6325</td>\n",
       "      <td>(6234, 6417)</td>\n",
       "      <td>661</td>\n",
       "      <td>(632, 690)</td>\n",
       "    </tr>\n",
       "    <tr>\n",
       "      <th>3</th>\n",
       "      <td>2697</td>\n",
       "      <td>(2616, 2778)</td>\n",
       "      <td>2208</td>\n",
       "      <td>(2151, 2265)</td>\n",
       "    </tr>\n",
       "    <tr>\n",
       "      <th>4</th>\n",
       "      <td>3260</td>\n",
       "      <td>(3093, 3427)</td>\n",
       "      <td>1329</td>\n",
       "      <td>(1270, 1387)</td>\n",
       "    </tr>\n",
       "  </tbody>\n",
       "</table>"
      ],
      "text/plain": [
       "<IPython.core.display.HTML object>"
      ]
     },
     "metadata": {},
     "output_type": "display_data"
    }
   ],
   "source": [
    "# construct a table, include a caption: ---------------------------------------\n",
    "cap = \"\"\"\n",
    "<b> Table 1.</b> <em> Point and Interval Estimate for Heating and Cooling Degree Days in 2009.</em>\n",
    "\"\"\"\n",
    "t1 = table_2009.to_html()\n",
    "t1 = t1.rsplit('\\n')\n",
    "t1.insert(1, cap)\n",
    "tab1 = ''\n",
    "for i, line in enumerate(t1):\n",
    "    tab1 += line\n",
    "    if i < (len(t1) - 1):\n",
    "        tab1 += '\\n'\n",
    "display(HTML(tab1))"
   ]
  },
  {
   "cell_type": "code",
   "execution_count": 17,
   "id": "86bd63a9",
   "metadata": {},
   "outputs": [
    {
     "data": {
      "text/plain": [
       "region\n",
       "1       (5696, (5532, 5859), 984, (919, 1049), 83, 33)\n",
       "2       (5785, (5635, 5936), 956, (894, 1018), 77, 31)\n",
       "3     (2212, (2056, 2368), 2640, (2525, 2755), 79, 59)\n",
       "4    (2815, (2625, 3005), 1577, (1377, 1777), 97, 102)\n",
       "dtype: object"
      ]
     },
     "execution_count": 17,
     "metadata": {},
     "output_type": "execute_result"
    }
   ],
   "source": [
    "est_2015 = (\n",
    "com_2015\n",
    ".groupby('region')\n",
    ".apply(est)\n",
    ")\n",
    "est_2015"
   ]
  },
  {
   "cell_type": "code",
   "execution_count": 18,
   "id": "413667db",
   "metadata": {},
   "outputs": [],
   "source": [
    "df_2015 = pd.DataFrame(tuple(est_2015), index = ['1','2','3','4'])\n",
    "table_2015 = df_2015.iloc[:,0:4]\n",
    "table_2015.columns = [\n",
    "                    \"Point Estimate for Heating Days\", \n",
    "                    \"Interval Estimate for Heating Days\", \n",
    "                    \"Point Estimate for Cooling Days\", \n",
    "                    \"Interval Estimate for Cooling Days\"]\n",
    "table_2015.index.name = \"region\"\n",
    "#print(table_2015)"
   ]
  },
  {
   "cell_type": "code",
   "execution_count": 19,
   "id": "0df421dc",
   "metadata": {},
   "outputs": [
    {
     "data": {
      "text/html": [
       "<table border=\"1\" class=\"dataframe\">\n",
       "\n",
       "<b> Table 2.</b> <em> Point and Interval Estimate for Heating and Cooling Degree Days in 2015.</em>\n",
       "\n",
       "  <thead>\n",
       "    <tr style=\"text-align: right;\">\n",
       "      <th></th>\n",
       "      <th>Point Estimate for Heating Days</th>\n",
       "      <th>Interval Estimate for Heating Days</th>\n",
       "      <th>Point Estimate for Cooling Days</th>\n",
       "      <th>Interval Estimate for Cooling Days</th>\n",
       "    </tr>\n",
       "    <tr>\n",
       "      <th>region</th>\n",
       "      <th></th>\n",
       "      <th></th>\n",
       "      <th></th>\n",
       "      <th></th>\n",
       "    </tr>\n",
       "  </thead>\n",
       "  <tbody>\n",
       "    <tr>\n",
       "      <th>1</th>\n",
       "      <td>5696</td>\n",
       "      <td>(5532, 5859)</td>\n",
       "      <td>984</td>\n",
       "      <td>(919, 1049)</td>\n",
       "    </tr>\n",
       "    <tr>\n",
       "      <th>2</th>\n",
       "      <td>5785</td>\n",
       "      <td>(5635, 5936)</td>\n",
       "      <td>956</td>\n",
       "      <td>(894, 1018)</td>\n",
       "    </tr>\n",
       "    <tr>\n",
       "      <th>3</th>\n",
       "      <td>2212</td>\n",
       "      <td>(2056, 2368)</td>\n",
       "      <td>2640</td>\n",
       "      <td>(2525, 2755)</td>\n",
       "    </tr>\n",
       "    <tr>\n",
       "      <th>4</th>\n",
       "      <td>2815</td>\n",
       "      <td>(2625, 3005)</td>\n",
       "      <td>1577</td>\n",
       "      <td>(1377, 1777)</td>\n",
       "    </tr>\n",
       "  </tbody>\n",
       "</table>"
      ],
      "text/plain": [
       "<IPython.core.display.HTML object>"
      ]
     },
     "metadata": {},
     "output_type": "display_data"
    }
   ],
   "source": [
    "# construct a table, include a caption: ---------------------------------------\n",
    "cap = \"\"\"\n",
    "<b> Table 2.</b> <em> Point and Interval Estimate for Heating and Cooling Degree Days in 2015.</em>\n",
    "\"\"\"\n",
    "t2 = table_2015.to_html()\n",
    "t2 = t2.rsplit('\\n')\n",
    "t2.insert(1, cap)\n",
    "tab2 = ''\n",
    "for i, line in enumerate(t2):\n",
    "    tab2 += line\n",
    "    if i < (len(t2) - 1):\n",
    "        tab2 += '\\n'\n",
    "display(HTML(tab2))"
   ]
  },
  {
   "cell_type": "markdown",
   "id": "7a665a9a",
   "metadata": {},
   "source": [
    "## (b)"
   ]
  },
  {
   "cell_type": "code",
   "execution_count": 20,
   "id": "8a46a8da",
   "metadata": {},
   "outputs": [],
   "source": [
    "# Calculate point and interval estimate for difference: -----------------------\n",
    "point_diff_heat = est_2015.apply(lambda t, x: t[x], args=(0,)) \\\n",
    "- est_2009.apply(lambda t, x: t[x], args=(0,))\n",
    "\n",
    "sd_diff_heat = (est_2009.apply(lambda t, x: x**2, args=(4,)) \\\n",
    "                + est_2015.apply(lambda t, x: x**2, args=(4,)))\\\n",
    ".apply(lambda x: math.sqrt(x))\n",
    "\n",
    "point_diff_cool = est_2015.apply(lambda t, x: t[x], args=(2,)) \\\n",
    "- est_2009.apply(lambda t, x: t[x], args=(2,))\n",
    "\n",
    "sd_diff_cool = (est_2009.apply(lambda t, x: x**2, args=(5,)) \\\n",
    "                + est_2015.apply(lambda t, x: x**2, args=(5,)))\\\n",
    ".apply(lambda x: math.sqrt(x))\n",
    "\n",
    "difference = {\"Point Estimate for Difference of Heating\": \\\n",
    "              list(point_diff_heat), \n",
    "              \"Lower Interval for Difference of Heating\": \\\n",
    "              list(round(point_diff_heat - 1.96*sd_diff_heat)), \n",
    "              \"Upper Interval for Difference of Heating\": \\\n",
    "              list(round(point_diff_heat + 1.96*sd_diff_heat)),\n",
    "              \"Point Estimate for Difference of Cooling\": \\\n",
    "              list(point_diff_cool), \n",
    "              \"Lower Interval for Difference of Cooling\": \\\n",
    "              list(round(point_diff_cool - 1.96*sd_diff_cool)), \n",
    "              \"Upper Interval for Difference of Cooling\": \\\n",
    "              list(round(point_diff_cool + 1.96*sd_diff_cool,0))}\n",
    "difference = pd.DataFrame(data = difference, index = ['1','2','3','4'])\n",
    "difference.index.name = \"region\""
   ]
  },
  {
   "cell_type": "code",
   "execution_count": 21,
   "id": "5fb67aed",
   "metadata": {},
   "outputs": [
    {
     "data": {
      "text/html": [
       "<table border=\"1\" class=\"dataframe\">\n",
       "\n",
       "<b> Table 3.</b> <em> Point and Interval Estimate for Difference of Heating \n",
       "and Cooling Degree Days between 2009 and 2015. (data of 2015 - data of 2009)</em>\n",
       "\n",
       "  <thead>\n",
       "    <tr style=\"text-align: right;\">\n",
       "      <th></th>\n",
       "      <th>Point Estimate for Difference of Heating</th>\n",
       "      <th>Lower Interval for Difference of Heating</th>\n",
       "      <th>Upper Interval for Difference of Heating</th>\n",
       "      <th>Point Estimate for Difference of Cooling</th>\n",
       "      <th>Lower Interval for Difference of Cooling</th>\n",
       "      <th>Upper Interval for Difference of Cooling</th>\n",
       "    </tr>\n",
       "    <tr>\n",
       "      <th>region</th>\n",
       "      <th></th>\n",
       "      <th></th>\n",
       "      <th></th>\n",
       "      <th></th>\n",
       "      <th></th>\n",
       "      <th></th>\n",
       "    </tr>\n",
       "  </thead>\n",
       "  <tbody>\n",
       "    <tr>\n",
       "      <th>1</th>\n",
       "      <td>-5</td>\n",
       "      <td>-16.0</td>\n",
       "      <td>6.0</td>\n",
       "      <td>303</td>\n",
       "      <td>289.0</td>\n",
       "      <td>317.0</td>\n",
       "    </tr>\n",
       "    <tr>\n",
       "      <th>2</th>\n",
       "      <td>-540</td>\n",
       "      <td>-551.0</td>\n",
       "      <td>-529.0</td>\n",
       "      <td>295</td>\n",
       "      <td>281.0</td>\n",
       "      <td>309.0</td>\n",
       "    </tr>\n",
       "    <tr>\n",
       "      <th>3</th>\n",
       "      <td>-485</td>\n",
       "      <td>-496.0</td>\n",
       "      <td>-474.0</td>\n",
       "      <td>432</td>\n",
       "      <td>418.0</td>\n",
       "      <td>446.0</td>\n",
       "    </tr>\n",
       "    <tr>\n",
       "      <th>4</th>\n",
       "      <td>-445</td>\n",
       "      <td>-456.0</td>\n",
       "      <td>-434.0</td>\n",
       "      <td>248</td>\n",
       "      <td>234.0</td>\n",
       "      <td>262.0</td>\n",
       "    </tr>\n",
       "  </tbody>\n",
       "</table>"
      ],
      "text/plain": [
       "<IPython.core.display.HTML object>"
      ]
     },
     "metadata": {},
     "output_type": "display_data"
    }
   ],
   "source": [
    "# construct a table, include a caption: ---------------------------------------\n",
    "cap = \"\"\"\n",
    "<b> Table 3.</b> <em> Point and Interval Estimate for Difference of Heating \n",
    "and Cooling Degree Days between 2009 and 2015. (data of 2015 - data of 2009)</em>\n",
    "\"\"\"\n",
    "t3 = difference.to_html()\n",
    "t3 = t3.rsplit('\\n')\n",
    "t3.insert(1, cap)\n",
    "tab3 = ''\n",
    "for i, line in enumerate(t3):\n",
    "    tab3 += line\n",
    "    if i < (len(t3) - 1):\n",
    "        tab3 += '\\n'\n",
    "display(HTML(tab3))"
   ]
  },
  {
   "cell_type": "markdown",
   "id": "c61d5753",
   "metadata": {},
   "source": [
    "## Question 3\n",
    "\n",
    "### Error Bar for Heating and Cooling Days of Micro Data in 2009"
   ]
  },
  {
   "cell_type": "code",
   "execution_count": 22,
   "id": "e728c4b9",
   "metadata": {},
   "outputs": [
    {
     "data": {
      "image/png": "[encoded data removed]",
      "text/plain": [
       "<Figure size 432x288 with 1 Axes>"
      ]
     },
     "metadata": {
      "needs_background": "light"
     },
     "output_type": "display_data"
    }
   ],
   "source": [
    "fig1 = plt.figure() \n",
    "fig1.suptitle('Error Bar for Heating and Cooling Days of Micro Data in 2009', \n",
    "              fontsize=14, \n",
    "              fontweight='bold')\n",
    "ax1 = fig1.add_subplot()\n",
    "plt.errorbar(\n",
    "    x=df_2009.index, \n",
    "    y=df_2009[0], \n",
    "    yerr=df_2009[4],\n",
    "    fmt='.r')\n",
    "plt.errorbar(\n",
    "    x=df_2009.index, \n",
    "    y=df_2009[2], \n",
    "    yerr=df_2009[5],\n",
    "    fmt='.b')\n",
    "plt.legend([\"Heating\",\"Cooling\"])\n",
    "ax1.set_xlabel('Region')\n",
    "ax1.set_ylabel('Degree Days')\n",
    "plt.show()"
   ]
  },
  {
   "cell_type": "markdown",
   "id": "3fd9678f",
   "metadata": {},
   "source": [
    "### Error Bar for Heating and Cooling Days of Micro Data in 2015"
   ]
  },
  {
   "cell_type": "code",
   "execution_count": 23,
   "id": "58d31f24",
   "metadata": {},
   "outputs": [
    {
     "data": {
      "image/png": "[encoded data removed]",
      "text/plain": [
       "<Figure size 432x288 with 1 Axes>"
      ]
     },
     "metadata": {
      "needs_background": "light"
     },
     "output_type": "display_data"
    }
   ],
   "source": [
    "fig2 = plt.figure() \n",
    "fig2.suptitle('Error Bar for Heating and Cooling Days of Micro Data in 2015', \n",
    "              fontsize=14, \n",
    "              fontweight='bold')\n",
    "ax2 = fig2.add_subplot()\n",
    "plt.errorbar(\n",
    "    x=df_2015.index, \n",
    "    y=df_2015[0], \n",
    "    yerr=df_2015[4],\n",
    "    fmt='.r')\n",
    "plt.errorbar(\n",
    "    x=df_2015.index, \n",
    "    y=df_2015[2], \n",
    "    yerr=df_2015[5],\n",
    "    fmt='.b')\n",
    "plt.legend([\"Heating\",\"Cooling\"])\n",
    "ax2.set_xlabel('Region')\n",
    "ax2.set_ylabel('Degree Days')\n",
    "plt.show()"
   ]
  },
  {
   "cell_type": "markdown",
   "id": "6d4e3533",
   "metadata": {},
   "source": [
    "### Error Bar for Difference between 2009 and 2015 for Heating and Cooling Days of Micro Data (subtraction of 2015 and 2009)"
   ]
  },
  {
   "cell_type": "code",
   "execution_count": 24,
   "id": "1dc3cc1d",
   "metadata": {},
   "outputs": [
    {
     "data": {
      "image/png": "[encoded data removed]",
      "text/plain": [
       "<Figure size 432x288 with 1 Axes>"
      ]
     },
     "metadata": {
      "needs_background": "light"
     },
     "output_type": "display_data"
    }
   ],
   "source": [
    "fig3 = plt.figure() \n",
    "fig3.suptitle('Error Bar for Difference between 2009 and 2015 \\\n",
    "for Heating and Cooling Days of Micro Data', \n",
    "              fontsize=14, \n",
    "              fontweight='bold')\n",
    "ax3 = fig3.add_subplot()\n",
    "plt.errorbar(\n",
    "    x=difference.index, \n",
    "    y=difference.iloc[:,0], \n",
    "    yerr=difference.iloc[:,2] - difference.iloc[:,0],\n",
    "    fmt='.r')\n",
    "plt.errorbar(\n",
    "    x=difference.index, \n",
    "    y=difference.iloc[:,3], \n",
    "    yerr=difference.iloc[:,5] - difference.iloc[:,3],\n",
    "    fmt='.b')\n",
    "plt.legend([\"Heating\",\"Cooling\"], loc='lower left')\n",
    "ax3.set_xlabel('Region')\n",
    "ax3.set_ylabel('Degree Days')\n",
    "plt.show()"
   ]
  },
  {
   "cell_type": "markdown",
   "id": "a0fa49c8",
   "metadata": {},
   "source": [
    "# References\n",
    "Microdata, 2015. Residential Energy Consumption Survey (RECS). US Department of Energy: Washington, DC, USA."
   ]
  }
 ],
 "metadata": {
  "jupytext": {
   "formats": "ipynb,py:light"
  },
  "kernelspec": {
   "display_name": "Python 3 (ipykernel)",
   "language": "python",
   "name": "python3"
  },
  "language_info": {
   "codemirror_mode": {
    "name": "ipython",
    "version": 3
   },
   "file_extension": ".py",
   "mimetype": "text/x-python",
   "name": "python",
   "nbconvert_exporter": "python",
   "pygments_lexer": "ipython3",
   "version": "3.9.6"
  }
 },
 "nbformat": 4,
 "nbformat_minor": 5
}
