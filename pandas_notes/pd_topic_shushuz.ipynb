{
 "cells": [
  {
   "cell_type": "markdown",
   "id": "539089f9",
   "metadata": {},
   "source": [
    "# Hierarchical indexing (MultiIndex)\n",
    "- Shushu Zhang\n",
    "- shushuz@umich.edu\n",
    "- Reference is [here](https://pandas.pydata.org/pandas-docs/stable/user_guide/advanced.html) \n",
    "\n",
    "Hierarchical / Multi-level indexing is very exciting as it opens the door to some quite sophisticated data analysis and manipulation, especially for working with higher dimensional data. In essence, it enables you to store and manipulate data with an arbitrary number of dimensions in lower dimensional data structures like Series (1d) and DataFrame (2d)."
   ]
  },
  {
   "cell_type": "markdown",
   "id": "182c798f",
   "metadata": {},
   "source": [
    "# Import"
   ]
  },
  {
   "cell_type": "code",
   "execution_count": null,
   "id": "0e922a64",
   "metadata": {},
   "outputs": [],
   "source": [
    "# modules: --------------------------------------------------------------------\n",
    "import numpy as np\n",
    "import pandas as pd\n",
    "from timeit import Timer\n",
    "from os.path import exists\n",
    "from collections import defaultdict\n",
    "from IPython.core.display import display, HTML\n",
    "import math\n",
    "from math import floor\n",
    "import matplotlib.pyplot as plt \n",
    "import matplotlib as mpl\n",
    "import matplotlib.cm as cm\n",
    "from scipy.stats import norm, t, chi2_contingency, binom, bernoulli, beta, ttest_ind\n",
    "from function import ci_mean, ci_prop\n",
    "from warnings import warn\n",
    "# 79: -------------------------------------------------------------------------"
   ]
  },
  {
   "cell_type": "markdown",
   "id": "006e42a0",
   "metadata": {},
   "source": [
    "## Creating a MultiIndex (hierarchical index) object\n",
    "- The MultiIndex object is the hierarchical analogue of the standard Index object which typically stores the axis labels in pandas objects. You can think of MultiIndex as an array of tuples where each tuple is unique. \n",
    "- A MultiIndex can be created from a list of arrays (using MultiIndex.from_arrays()), an array of tuples (using MultiIndex.from_tuples()), a crossed set of iterables (using MultiIndex.from_product()), or a DataFrame (using MultiIndex.from_frame()). \n",
    "- The Index constructor will attempt to return a MultiIndex when it is passed a list of tuples."
   ]
  },
  {
   "cell_type": "code",
   "execution_count": null,
   "id": "33ad945d",
   "metadata": {},
   "outputs": [],
   "source": [
    "# Constructing from an array of tuples\n",
    "arrays = [\n",
    "    [\"bar\", \"bar\", \"baz\", \"baz\", \"foo\", \"foo\", \"qux\", \"qux\"],\n",
    "    [\"one\", \"two\", \"one\", \"two\", \"one\", \"two\", \"one\", \"two\"],\n",
    "]\n",
    "tuples = list(zip(*arrays))\n",
    "tuples\n",
    "index = pd.MultiIndex.from_tuples(tuples, names=[\"first\", \"second\"])\n",
    "index"
   ]
  },
  {
   "cell_type": "markdown",
   "id": "d6840019",
   "metadata": {},
   "source": [
    "## Manipulating the dataframe with MultiIndex\n",
    "\n",
    "- Basic indexing on axis with MultiIndex is illustrated as below.\n",
    "- The MultiIndex keeps all the defined levels of an index, even if they are not actually used."
   ]
  },
  {
   "cell_type": "code",
   "execution_count": null,
   "id": "145fe172",
   "metadata": {},
   "outputs": [],
   "source": [
    "# Use the MultiIndex object to construct a dataframe \n",
    "df = pd.DataFrame(np.random.randn(3, 8), index=[\"A\", \"B\", \"C\"], columns=index)\n",
    "print(df)\n",
    "df['bar']"
   ]
  },
  {
   "cell_type": "code",
   "execution_count": null,
   "id": "87056bcc",
   "metadata": {},
   "outputs": [],
   "source": [
    "#These two indexing are the same\n",
    "print(df['bar','one'])\n",
    "print(df['bar']['one'])"
   ]
  },
  {
   "cell_type": "code",
   "execution_count": null,
   "id": "88eb7325",
   "metadata": {},
   "outputs": [],
   "source": [
    "print(df.columns.levels)  # original MultiIndex\n",
    "print(df[[\"foo\",\"qux\"]].columns.levels)  # sliced"
   ]
  },
  {
   "cell_type": "markdown",
   "id": "ede6246f",
   "metadata": {},
   "source": [
    "## Advanced indexing with hierarchical index\n",
    "- MultiIndex keys take the form of tuples. \n",
    "- We can use also analogous methods, such as .T, .loc. \n",
    "- “Partial” slicing also works quite nicely."
   ]
  },
  {
   "cell_type": "code",
   "execution_count": null,
   "id": "d08875f1",
   "metadata": {},
   "outputs": [],
   "source": [
    "df = df.T\n",
    "print(df)\n",
    "print(df.loc[(\"bar\", \"two\")])\n",
    "print(df.loc[(\"bar\", \"two\"), \"A\"])\n",
    "print(df.loc[\"bar\"])\n",
    "print(df.loc[\"baz\":\"foo\"])"
   ]
  },
  {
   "cell_type": "markdown",
   "id": "8d6e99be",
   "metadata": {},
   "source": [
    "## Using slicers\n",
    "\n",
    "- You can slice a MultiIndex by providing multiple indexers.\n",
    "\n",
    "- You can provide any of the selectors as if you are indexing by label, see Selection by Label, including slices, lists of labels, labels, and boolean indexers.\n",
    "\n",
    "- You can use slice(None) to select all the contents of that level. You do not need to specify all the deeper levels, they will be implied as slice(None).\n",
    "\n",
    "- As usual, both sides of the slicers are included as this is label indexing."
   ]
  },
  {
   "cell_type": "code",
   "execution_count": null,
   "id": "29c52964",
   "metadata": {},
   "outputs": [],
   "source": [
    "def mklbl(prefix, n):\n",
    "    return [\"%s%s\" % (prefix, i) for i in range(n)]\n",
    "\n",
    "\n",
    "miindex = pd.MultiIndex.from_product(\n",
    "    [mklbl(\"A\", 4), mklbl(\"B\", 2), mklbl(\"C\", 4), mklbl(\"D\", 2)]\n",
    ")\n",
    "\n",
    "\n",
    "micolumns = pd.MultiIndex.from_tuples(\n",
    "    [(\"a\", \"foo\"), (\"a\", \"bar\"), (\"b\", \"foo\"), (\"b\", \"bah\")], names=[\"lvl0\", \"lvl1\"]\n",
    ")\n",
    "\n",
    "\n",
    "dfmi = (\n",
    "    pd.DataFrame(\n",
    "        np.arange(len(miindex) * len(micolumns)).reshape(\n",
    "            (len(miindex), len(micolumns))\n",
    "        ),\n",
    "        index=miindex,\n",
    "        columns=micolumns,\n",
    "    )\n",
    "    .sort_index()\n",
    "    .sort_index(axis=1)\n",
    ")\n",
    "\n",
    "print(dfmi)\n",
    "print(dfmi.loc[(slice(\"A1\", \"A3\"), slice(None), [\"C1\", \"C3\"]), :])"
   ]
  }
 ],
 "metadata": {
  "jupytext": {
   "encoding": "# -*- coding: utf-8 -*-",
   "formats": "ipynb,py:light",
   "text_representation": {
    "extension": ".py",
    "format_name": "light",
    "format_version": "1.5",
    "jupytext_version": "1.11.5"
   }
  },
  "kernelspec": {
   "display_name": "Python 3 (ipykernel)",
   "language": "python",
   "name": "python3"
  },
  "language_info": {
   "codemirror_mode": {
    "name": "ipython",
    "version": 3
   },
   "file_extension": ".py",
   "mimetype": "text/x-python",
   "name": "python",
   "nbconvert_exporter": "python",
   "pygments_lexer": "ipython3",
   "version": "3.9.6"
  }
 },
 "nbformat": 4,
 "nbformat_minor": 5
}
