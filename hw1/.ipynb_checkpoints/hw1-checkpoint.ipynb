{
 "cells": [
  {
   "cell_type": "code",
   "execution_count": 1,
   "id": "656b3c84",
   "metadata": {},
   "outputs": [],
   "source": [
    "import numpy as np\n",
    "import time\n",
    "#from timeit import Timer\n",
    "import pandas as pd\n",
    "#from itables import show\n",
    "from tabulate import tabulate\n",
    "from scipy import stats\n",
    "import string"
   ]
  },
  {
   "cell_type": "markdown",
   "id": "8bbb0ac2",
   "metadata": {},
   "source": [
    "# Question 0"
   ]
  },
  {
   "cell_type": "markdown",
   "id": "be94dceb",
   "metadata": {},
   "source": [
    "This is question 0 for [problem set 1](https://jbhender.github.io/Stats507/F21/ps/ps1.html) of [Stats 507](https://jbhender.github.io/Stats507/F21/).\n",
    "\n",
    "> Question 0 is about Markdown.\n",
    "\n",
    "The next question is about the **Fibonnaci sequence**, Fn=Fn−2+Fn−1. In part **a** we will define a Python function fib_rec().\n",
    "\n",
    "Below is a …\n",
    "\n",
    "### Level 3 Header\n",
    "Next, we can make a bulleted list:\n",
    "\n",
    "- Item 1\n",
    "    - detail 1\n",
    "    - detail 2\n",
    "- Item 2\n",
    "\n",
    "Finally, we can make an enumerated list:\n",
    "\n",
    "a. Item 1 \\\n",
    "b. Item 2 \\\n",
    "c. Item 3\n"
   ]
  },
  {
   "cell_type": "markdown",
   "id": "1b1e5c76",
   "metadata": {},
   "source": [
    "# Question 2"
   ]
  },
  {
   "cell_type": "markdown",
   "id": "ea85b5f3",
   "metadata": {},
   "source": [
    "## (a) fib_rec()"
   ]
  },
  {
   "cell_type": "code",
   "execution_count": 2,
   "id": "9b4df7ab",
   "metadata": {},
   "outputs": [
    {
     "name": "stdout",
     "output_type": "stream",
     "text": [
      "13\n",
      "89\n",
      "233\n"
     ]
    }
   ],
   "source": [
    "# Define function\n",
    "def fib_rec(n,a,b):\n",
    "    \"\"\"\n",
    "    It is a recursive function that calculate Fibonnaci Sequence with input n and\n",
    "    starting values, and returns the value of F_n. \n",
    "    \n",
    "    Parameters\n",
    "    ----------\n",
    "    n : number in sequence;\n",
    "    a : starting point F_0;\n",
    "    b : starting point F_1. \n",
    "    \n",
    "    Returns\n",
    "    -------\n",
    "    F_n.\n",
    "    \"\"\"\n",
    "    if n==0:\n",
    "        return (a)\n",
    "    elif n==1:\n",
    "        return (b)\n",
    "    else:\n",
    "        return (fib_rec(n-1,a,b)+fib_rec(n-2,a,b))\n",
    "\n",
    "# Test\n",
    "print(fib_rec(7,0,1))\n",
    "print(fib_rec(11,0,1))\n",
    "print(fib_rec(13,0,1))"
   ]
  },
  {
   "cell_type": "markdown",
   "id": "d80ffd35",
   "metadata": {},
   "source": [
    "## (b) fib_for()"
   ]
  },
  {
   "cell_type": "code",
   "execution_count": 3,
   "id": "fe077362",
   "metadata": {},
   "outputs": [
    {
     "name": "stdout",
     "output_type": "stream",
     "text": [
      "13\n",
      "89\n",
      "233\n"
     ]
    }
   ],
   "source": [
    "# Define function\n",
    "def fib_for(n,a,b):\n",
    "    \"\"\"\n",
    "    Calculate Fibonnaci Sequence with a single input n and returns the value of \n",
    "    F_n by a for loop. \n",
    "    \n",
    "    Parameters\n",
    "    ----------\n",
    "    n : number in sequence.\n",
    "    \n",
    "    Returns\n",
    "    -------\n",
    "    F_n.\n",
    "    \"\"\"\n",
    "    if n==0:\n",
    "        return (a)\n",
    "    elif n==1:\n",
    "        return (b)\n",
    "    else:\n",
    "        F0 = a\n",
    "        F1 = b\n",
    "        for i in range(n-1):\n",
    "            F2 = F0 + F1\n",
    "            F0 = F1\n",
    "            F1 = F2\n",
    "        return (F2)\n",
    "\n",
    "# Test\n",
    "print(fib_rec(7,0,1))\n",
    "print(fib_rec(11,0,1))\n",
    "print(fib_rec(13,0,1))"
   ]
  },
  {
   "cell_type": "markdown",
   "id": "cd409cb4",
   "metadata": {},
   "source": [
    "## (c) fib_whl()"
   ]
  },
  {
   "cell_type": "code",
   "execution_count": 4,
   "id": "8b47e129",
   "metadata": {},
   "outputs": [
    {
     "name": "stdout",
     "output_type": "stream",
     "text": [
      "13\n",
      "89\n",
      "233\n"
     ]
    }
   ],
   "source": [
    "# Define function\n",
    "def fib_whl(n,a,b):\n",
    "    \"\"\"\n",
    "    Calculate Fibonnaci Sequence with a single input n and returns the value of \n",
    "    F_n by a while loop. \n",
    "    Parameters\n",
    "    ----------\n",
    "    n : number in sequence.\n",
    "    Returns\n",
    "    -------\n",
    "    F_n.\n",
    "    \"\"\"\n",
    "    if n==0:\n",
    "        return (a)\n",
    "    elif n==1:\n",
    "        return (b)\n",
    "    else:\n",
    "        F0 = a\n",
    "        F1 = b\n",
    "        i = 1\n",
    "        while i<n:\n",
    "            F2 = F0 + F1\n",
    "            F0 = F1\n",
    "            F1 = F2\n",
    "            i += 1\n",
    "        return (F2)\n",
    "\n",
    "# Test\n",
    "print(fib_rec(7,0,1))\n",
    "print(fib_rec(11,0,1))\n",
    "print(fib_rec(13,0,1))"
   ]
  },
  {
   "cell_type": "markdown",
   "id": "2cc23d9d",
   "metadata": {},
   "source": [
    "## (d) fib_rnd()"
   ]
  },
  {
   "cell_type": "code",
   "execution_count": 5,
   "id": "c912c4bb",
   "metadata": {},
   "outputs": [
    {
     "name": "stdout",
     "output_type": "stream",
     "text": [
      "13\n",
      "89\n",
      "233\n"
     ]
    }
   ],
   "source": [
    "# Define function\n",
    "def fib_rnd(n,a,b):\n",
    "    \"\"\"\n",
    "    Calculate Fibonnaci Sequence with a single input n and returns \n",
    "    the value of F_n using rounding method. \n",
    "    \n",
    "    Parameters\n",
    "    ----------\n",
    "    n : number in sequence.\n",
    "    \n",
    "    Returns\n",
    "    -------\n",
    "    F_n.\n",
    "    \"\"\"\n",
    "    phi = (1+np.sqrt(5))/2\n",
    "    return (round(phi**n/np.sqrt(5))+a+b-1)\n",
    "\n",
    "# Test\n",
    "print(fib_rec(7,0,1))\n",
    "print(fib_rec(11,0,1))\n",
    "print(fib_rec(13,0,1))"
   ]
  },
  {
   "cell_type": "markdown",
   "id": "c5ba044d",
   "metadata": {},
   "source": [
    "## (e) fib_flr()"
   ]
  },
  {
   "cell_type": "code",
   "execution_count": 6,
   "id": "8acda4e9",
   "metadata": {},
   "outputs": [
    {
     "name": "stdout",
     "output_type": "stream",
     "text": [
      "13\n",
      "89\n",
      "233\n"
     ]
    }
   ],
   "source": [
    "# Define function\n",
    "def fib_flr(n,a,b):\n",
    "    \"\"\"\n",
    "    Calculate Fibonnaci Sequence with a single input n \n",
    "    and returns the value of F_n using truncation method. \n",
    "    \n",
    "    Parameters\n",
    "    ----------\n",
    "    n : number in sequence.\n",
    "    Returns\n",
    "    -------\n",
    "    F_n.\n",
    "    \"\"\"\n",
    "    phi = (1+np.sqrt(5))/2\n",
    "    return (int(np.floor(phi**n/np.sqrt(5)+1/2))+a+b-1)\n",
    "\n",
    "# Test\n",
    "print(fib_rec(7,0,1))\n",
    "print(fib_rec(11,0,1))\n",
    "print(fib_rec(13,0,1))"
   ]
  },
  {
   "cell_type": "markdown",
   "id": "e798af0f",
   "metadata": {},
   "source": [
    "## (f) Comparison \n",
    "In this section, I will show a nicely formatted table indicating the time each function will run for a particular number of Fibonnaci Sequence. "
   ]
  },
  {
   "cell_type": "code",
   "execution_count": 7,
   "id": "254f36ec",
   "metadata": {},
   "outputs": [],
   "source": [
    "fun_names = ['fib_rec','fib_for','fib_whl','fib_rnd','fib_flr']\n",
    "n_ranges = range(5,40,5)\n",
    "df = pd.DataFrame(columns = fun_names, index = n_ranges)"
   ]
  },
  {
   "cell_type": "code",
   "execution_count": 8,
   "id": "e8fa86cf",
   "metadata": {},
   "outputs": [
    {
     "name": "stdout",
     "output_type": "stream",
     "text": [
      "     fib_rec   fib_for   fib_whl   fib_rnd   fib_flr\n",
      "5   0.000012  0.000066  0.000006  0.000154   0.00002\n",
      "10  0.000032  0.000009  0.000007  0.000013  0.000011\n",
      "15  0.000234  0.000005  0.000005   0.00001  0.000009\n",
      "20  0.002527  0.000006  0.000005  0.000009  0.000009\n",
      "25   0.02703  0.000005  0.000006  0.000011  0.000009\n",
      "30  0.287743  0.000006  0.000007   0.00001  0.000009\n",
      "35  3.181809  0.000006  0.000006  0.000009  0.000009\n"
     ]
    }
   ],
   "source": [
    "for fun in fun_names:\n",
    "    for n in n_ranges:\n",
    "        t0 = time.time()\n",
    "        eval(fun)(n,0,1)\n",
    "        t1 = time.time()\n",
    "        df.at[n,fun] = t1-t0\n",
    "print(df)     "
   ]
  },
  {
   "cell_type": "markdown",
   "id": "ef6fabf0",
   "metadata": {},
   "source": [
    "As we can see from both the detailed table above and the median summary table below, fib_rec function computes with far more time than the rest, indicating that using recursive function is less efficient than the others in terms of computational costs. "
   ]
  },
  {
   "cell_type": "code",
   "execution_count": 9,
   "id": "9e9faa36",
   "metadata": {},
   "outputs": [
    {
     "name": "stdout",
     "output_type": "stream",
     "text": [
      "Function      Median Computing Time\n",
      "----------  -----------------------\n",
      "fib_rec                 0.00252676\n",
      "fib_for                 6.19888e-06\n",
      "fib_whl                 5.96046e-06\n",
      "fib_rnd                 1.00136e-05\n",
      "fib_flr                 9.05991e-06\n"
     ]
    }
   ],
   "source": [
    "print(tabulate(pd.DataFrame(df.median(axis = 0)),\n",
    "               headers = ['Function','Median Computing Time']))"
   ]
  },
  {
   "cell_type": "markdown",
   "id": "2fe6aec3",
   "metadata": {},
   "source": [
    "# Question 2 - Pascal’s Triangle"
   ]
  },
  {
   "cell_type": "markdown",
   "id": "8d6e2b88",
   "metadata": {},
   "source": [
    "## (a) Write a function to compute a specified row of Pascal’s triangle"
   ]
  },
  {
   "cell_type": "code",
   "execution_count": 10,
   "id": "f0390242",
   "metadata": {},
   "outputs": [],
   "source": [
    "def Pascal(n):\n",
    "    \"\"\"\n",
    "    Compute a specified (n-th) row of Pascal’s triangle. \n",
    "    \n",
    "    Parameters\n",
    "    ----------\n",
    "    n : number of the specified row.\n",
    "    \n",
    "    Returns\n",
    "    -------\n",
    "    n-th row of Pascal’s triangle.\n",
    "    \"\"\"\n",
    "    P_n = [1]\n",
    "    if n>0:\n",
    "        for k in range(1,n+1):\n",
    "            P_n.append(int(P_n[-1]*(n+1-k)/k))\n",
    "    return (P_n)"
   ]
  },
  {
   "cell_type": "code",
   "execution_count": 11,
   "id": "89bf04b9",
   "metadata": {},
   "outputs": [
    {
     "data": {
      "text/plain": [
       "[1, 6, 15, 20, 15, 6, 1]"
      ]
     },
     "execution_count": 11,
     "metadata": {},
     "output_type": "execute_result"
    }
   ],
   "source": [
    "#Test\n",
    "Pascal(6)"
   ]
  },
  {
   "cell_type": "markdown",
   "id": "e53d7538",
   "metadata": {},
   "source": [
    "## (b) Write a function for printing the first n rows of Pascal’s triangle using the conventional spacing with the numbers in each row staggered relative to adjacent rows."
   ]
  },
  {
   "cell_type": "code",
   "execution_count": 12,
   "id": "8bb11fe0",
   "metadata": {},
   "outputs": [],
   "source": [
    "def Pascal_firstn(n):\n",
    "    \"\"\"\n",
    "    Compute the first n rows (until n-th row) of Pascal’s triangle. \n",
    "    \n",
    "    Parameters\n",
    "    ----------\n",
    "    n : number of rows printed.\n",
    "    \n",
    "    Returns\n",
    "    -------\n",
    "    First n rows of Pascal’s triangle.\n",
    "    \"\"\"\n",
    "    for i in range(n+1):\n",
    "        print(\" \"*2*(n-i),end=\"\")\n",
    "        for j in range(i+1):\n",
    "            print(str(Pascal(i)[j]).center(4), end=\"\")\n",
    "        print()    "
   ]
  },
  {
   "cell_type": "code",
   "execution_count": 13,
   "id": "6aaeb884",
   "metadata": {},
   "outputs": [
    {
     "name": "stdout",
     "output_type": "stream",
     "text": [
      "                     1  \n",
      "                   1   1  \n",
      "                 1   2   1  \n",
      "               1   3   3   1  \n",
      "             1   4   6   4   1  \n",
      "           1   5   10  10  5   1  \n",
      "         1   6   15  20  15  6   1  \n",
      "       1   7   21  35  35  21  7   1  \n",
      "     1   8   28  56  70  56  28  8   1  \n",
      "   1   9   36  84 126 126  84  36  9   1  \n",
      " 1   10  45 120 210 252 210 120  45  10  1  \n"
     ]
    }
   ],
   "source": [
    "# Test\n",
    "Pascal_firstn(10)"
   ]
  },
  {
   "cell_type": "markdown",
   "id": "76caa9ac",
   "metadata": {},
   "source": [
    "# Question 3 - Statistics 101"
   ]
  },
  {
   "cell_type": "markdown",
   "id": "12507447",
   "metadata": {},
   "source": [
    "## (a)"
   ]
  },
  {
   "cell_type": "code",
   "execution_count": 14,
   "id": "f6abf2bb",
   "metadata": {},
   "outputs": [],
   "source": [
    "def CI(data,level,ci_format = \"string\"):\n",
    "    \"\"\"\n",
    "    Compute the confidence interval. \n",
    "    \n",
    "    Parameters\n",
    "    ----------\n",
    "    data : a 1d Numpy array or any object coercable to such an array \n",
    "    using np.array();\n",
    "    level : confidence level;\n",
    "    ci_format : (optional) default return a string with the format \n",
    "    \"\\hat{\\theta}[XX%CI:(\\hat{\\theta}_L,\\hat{\\theta}_U)]\",if ci_format \n",
    "    = None, return a dictionary with keys est, lwr, upr, and level.\n",
    "    \n",
    "    Returns\n",
    "    -------\n",
    "    depending on ci_format, the function returns either a string like \n",
    "    \"\\hat{\\theta}[XX%CI:(\\hat{\\theta}_L,\\hat{\\theta}_U)]\" \n",
    "    or a dictionary with keys est, lwr, upr, and level.\n",
    "    \"\"\"\n",
    "    #raise an informative exception if the object cannot be coercable \n",
    "    #to numpy array or the array is not 1-dimensional\n",
    "    data = np.array(data)\n",
    "    if data.ndim!=1 or any(hasattr(i, '__iter__') for i in data): \n",
    "        #exceptions: the numpy array is not 1-dimensional or it cannot \n",
    "        #be actually converted to numpy array \n",
    "        #e.g.: [1,2,3,[4,5,6]] (see below)\n",
    "        return (\"Not passing a 1d Numpy array or anything ciercable to it.\")\n",
    "    \n",
    "    est = np.mean(data)\n",
    "    sd = np.std(data)\n",
    "    n = np.size(data)\n",
    "    se = sd/np.sqrt(n)\n",
    "    alpha = 1 - level\n",
    "    z = stats.norm.ppf(1-alpha/2)\n",
    "    lwr, upr = est - z*se, est + z*se\n",
    "    dic = {'est':est, 'lwr':lwr, 'upr':upr, 'level':level}\n",
    "    if ci_format==None:\n",
    "        return (dic)\n",
    "    else:\n",
    "        return (\"{est}[{level}%CI:({lwr},{upr})]\".format_map(dic))"
   ]
  },
  {
   "cell_type": "code",
   "execution_count": 15,
   "id": "b41acd69",
   "metadata": {},
   "outputs": [
    {
     "name": "stdout",
     "output_type": "stream",
     "text": [
      "Not passing a 1d Numpy array or anything ciercable to it.\n"
     ]
    }
   ],
   "source": [
    "#exception: dictionary\n",
    "data = {'1':1,'2':2}\n",
    "print(CI(data,0.95))"
   ]
  },
  {
   "cell_type": "code",
   "execution_count": 16,
   "id": "49510f6c",
   "metadata": {},
   "outputs": [
    {
     "name": "stdout",
     "output_type": "stream",
     "text": [
      "Not passing a 1d Numpy array or anything ciercable to it.\n"
     ]
    },
    {
     "name": "stderr",
     "output_type": "stream",
     "text": [
      "/var/folders/44/fh7jk3ps13xgzqc8v05brvm40000gs/T/ipykernel_48146/38262184.py:22: VisibleDeprecationWarning: Creating an ndarray from ragged nested sequences (which is a list-or-tuple of lists-or-tuples-or ndarrays with different lengths or shapes) is deprecated. If you meant to do this, you must specify 'dtype=object' when creating the ndarray.\n",
      "  data = np.array(data)\n"
     ]
    }
   ],
   "source": [
    "#exception: list in list\n",
    "data = [1,2,3,[4,5,6]]\n",
    "print(CI(data,0.95))"
   ]
  },
  {
   "cell_type": "code",
   "execution_count": 23,
   "id": "d863f574",
   "metadata": {},
   "outputs": [
    {
     "name": "stdout",
     "output_type": "stream",
     "text": [
      "5.5[0.95%CI:(3.7197743044566924,7.280225695543308)]\n",
      "{'est': 5.5, 'lwr': 3.7197743044566924, 'upr': 7.280225695543308, 'level': 0.95}\n"
     ]
    }
   ],
   "source": [
    "#Test two formats\n",
    "data = [1,2,3,4,5,6,7,8,9,10]\n",
    "print(CI(data,0.95))\n",
    "print(CI(data,0.95,ci_format = None))"
   ]
  },
  {
   "cell_type": "markdown",
   "id": "dacde2f2",
   "metadata": {},
   "source": [
    "## (b)"
   ]
  },
  {
   "cell_type": "code",
   "execution_count": 18,
   "id": "50789bf2",
   "metadata": {},
   "outputs": [],
   "source": [
    "def CI_bin(data,level,method = \"standard\",ci_format = \"string\"):\n",
    "    \"\"\"\n",
    "    Compute the confidence interval of binomial distribution using several methods. \n",
    "    \n",
    "    Parameters\n",
    "    ----------\n",
    "    data : a 1d Numpy array with elements 0s and 1s or any object coercable to \n",
    "    such an array using np.array();\n",
    "    level : confidence level;\n",
    "    method (optional): the method of computing the confidence interval, \n",
    "    the values can be \"standard\" (default), \"Clopper-Pearson\", \"Jeffrey’s\", \n",
    "    and \"Agresti-Coull\";\n",
    "    ci_format (optional): default return a string with the format \n",
    "    \"\\hat{\\theta}[XX%CI:(\\hat{\\theta}_L,\\hat{\\theta}_U)]\", if ci_format = None, \n",
    "    return a dictionary with keys est, lwr, upr, and level.\n",
    "    \n",
    "    Returns\n",
    "    -------\n",
    "    depending on method and ci_format, the function returns confidence interval \n",
    "    either a string like \"\\hat{\\theta}[XX%CI:(\\hat{\\theta}_L,\\hat{\\theta}_U)]\" \n",
    "    or a dictionary with keys est, lwr, upr, and level.\n",
    "    \"\"\"\n",
    "    data = np.asarray(data)\n",
    "    if ((not isinstance(data, np.ndarray)) or data.ndim!=1):\n",
    "        return (\"Not passing a 1d Numpy array or anything ciercable to it.\")\n",
    "    x = np.sum(data)\n",
    "    n = np.size(data)\n",
    "    est = np.mean(data)\n",
    "    alpha = 1-level\n",
    "    z = stats.norm.ppf(1-alpha/2)\n",
    "    if (method == \"standard\"):\n",
    "        if (min(n*est,n*(1-est))<=12):\n",
    "            return (\"Standard method is not adequate \\\n",
    "                    since min{n\\hat{p},n(1-\\hat{p})}<=12.\")\n",
    "        else:\n",
    "            lwr, upr = est - z*np.sqrt(est*(1-est)/n), est + z*np.sqrt(est*(1-est)/n)\n",
    "    elif (method == \"Clopper-Pearson\"):\n",
    "        lwr, upr = stats.beta.ppf(alpha/2,x,n-x+1), stats.beta.ppf(1-alpha/2,x+1,n-x)\n",
    "    elif (method == \"Jeffrey’s\"):\n",
    "        lwr, upr = max(0,stats.beta.ppf(alpha/2,x+0.5,n-x+0.5)), \\\n",
    "        min(1,stats.beta.ppf(1-alpha/2,x+0.5,n-x+0.5))\n",
    "    elif (method == \"Agresti-Coull\"):\n",
    "        n_tilde = n + z**2\n",
    "        p_tilde = (x + (z**2)/2)/n_tilde\n",
    "        est = p_tilde\n",
    "        lwr, upr = p_tilde - z*np.sqrt(p_tilde*(1-p_tilde)/n_tilde), \\\n",
    "        p_tilde + z*np.sqrt(p_tilde*(1-p_tilde)/n_tilde)                                                             \n",
    "    else:\n",
    "        return (\"Invalid Method.\")\n",
    "    dic = {'est':est, 'lwr':lwr, 'upr':upr, 'level':level}\n",
    "    if ci_format==None:\n",
    "        return (dic)\n",
    "    else:\n",
    "        return (\"{est}[{level}%CI:({lwr},{upr})]\".format_map(dic))"
   ]
  },
  {
   "cell_type": "code",
   "execution_count": 19,
   "id": "b9877907",
   "metadata": {},
   "outputs": [
    {
     "name": "stdout",
     "output_type": "stream",
     "text": [
      "0.4375[0.95%CI:(0.1975341405326679,0.7012231009168222)]\n",
      "0.4375[0.95%CI:(0.2216059558009485,0.6738576259048334)]\n",
      "0.4496004800334023[0.95%CI:(0.23071664094073646,0.6684843191260681)]\n"
     ]
    }
   ],
   "source": [
    "#Test\n",
    "data = [0,1,1,1,0,0,1,0,1,1,0,0,0,0,0,1]\n",
    "print(CI_bin(data,0.95,method = \"Clopper-Pearson\"))\n",
    "print(CI_bin(data,0.95,method = \"Jeffrey’s\"))\n",
    "print(CI_bin(data,0.95,method = \"Agresti-Coull\"))"
   ]
  },
  {
   "cell_type": "markdown",
   "id": "d0d74af3",
   "metadata": {},
   "source": [
    "## (c)\n",
    "As we can see from the table below presenting the confidence interval for level 0.9,0.95,0.99 and five different methods, the five methods have very similar results. \"Clopper-Pearson\" has a bit wider interval while \"Jeffrey’s\" and \"Agresti-Coull\" are a bit tighter. Another interesting observation is that the method in (a) and the standard method in (b) coicides with one another, since the standard method in (b) is just a special case of the method in (a) with $$std(bin\\_data) = \\sqrt{\\hat{p}(1-\\hat{p})}.$$"
   ]
  },
  {
   "cell_type": "code",
   "execution_count": 27,
   "id": "691f7e5b",
   "metadata": {},
   "outputs": [
    {
     "name": "stdout",
     "output_type": "stream",
     "text": [
      "                  Normal            standard     Clopper-Pearson  \\\n",
      "0.90  0.467[0.380,0.553]  0.467[0.380,0.553]  0.467[0.376,0.559]   \n",
      "0.95  0.467[0.364,0.570]  0.467[0.364,0.570]  0.467[0.361,0.575]   \n",
      "0.99  0.467[0.331,0.602]  0.467[0.331,0.602]  0.467[0.331,0.606]   \n",
      "\n",
      "               Jeffrey’s       Agresti-Coull  \n",
      "0.90  0.467[0.382,0.553]  0.468[0.382,0.553]  \n",
      "0.95  0.467[0.366,0.569]  0.468[0.367,0.569]  \n",
      "0.99  0.467[0.336,0.601]  0.469[0.338,0.600]  \n"
     ]
    }
   ],
   "source": [
    "data = np.append(np.zeros(48),np.ones(42))\n",
    "methods = [\"standard\", \"Clopper-Pearson\", \"Jeffrey’s\", \"Agresti-Coull\"]\n",
    "levels = [0.9,0.95,0.99]\n",
    "dataframe = pd.DataFrame(columns = [\"Normal\"] + methods, index = levels)\n",
    "for level in levels:\n",
    "    dataframe.at[level,\"Normal\"] = \"{est:.3f}[{lwr:.3f},{upr:.3f}]\"\\\n",
    "    .format_map(CI(data,level,ci_format = None))\n",
    "    for method in methods:\n",
    "        dataframe.at[level,method] = \"{est:.3f}[{lwr:.3f},{upr:.3f}]\"\\\n",
    "        .format_map(CI_bin(data,level,method = method, ci_format = None))\n",
    "print(dataframe)"
   ]
  }
 ],
 "metadata": {
  "jupytext": {
   "encoding": "# -*- coding: utf-8 -*-",
   "formats": "ipynb,py:light"
  },
  "kernelspec": {
   "display_name": "Python 3 (ipykernel)",
   "language": "python",
   "name": "python3"
  },
  "language_info": {
   "codemirror_mode": {
    "name": "ipython",
    "version": 3
   },
   "file_extension": ".py",
   "mimetype": "text/x-python",
   "name": "python",
   "nbconvert_exporter": "python",
   "pygments_lexer": "ipython3",
   "version": "3.9.6"
  }
 },
 "nbformat": 4,
 "nbformat_minor": 5
}
