{
 "cells": [
  {
   "cell_type": "code",
   "execution_count": 1,
   "id": "bc483cb8",
   "metadata": {},
   "outputs": [],
   "source": [
    "from IPython.display import Image"
   ]
  },
  {
   "cell_type": "markdown",
   "id": "e0183cf7",
   "metadata": {},
   "source": [
    "# Question 0\n",
    "The repository can be found [here](https://github.com/shushuzh/Stats507.git)."
   ]
  },
  {
   "cell_type": "markdown",
   "id": "6eeff968",
   "metadata": {},
   "source": [
    "# Question 1"
   ]
  },
  {
   "cell_type": "markdown",
   "id": "f0a81bfb",
   "metadata": {},
   "source": [
    "## Step 1\n",
    "I added and pushed the file in [here](https://github.com/shushuzh/Stats507/blob/master/hw6/ps2_q3.ipynb) under \"hw6\" folder. The commit history for this operation is [here](https://github.com/shushuzh/Stats507/commit/0ce40e75a0c17b3288ea81c5d4aa9e4a3568592a). \n",
    "\n",
    "I included the screenshot of my command line here. "
   ]
  },
  {
   "cell_type": "code",
   "execution_count": 2,
   "id": "18f859f8",
   "metadata": {
    "collapsed": true
   },
   "outputs": [
    {
     "data": {
      "text/html": [
       "<img src=\"q1_command/step1.png\"/>"
      ],
      "text/plain": [
       "<IPython.core.display.Image object>"
      ]
     },
     "execution_count": 2,
     "metadata": {},
     "output_type": "execute_result"
    }
   ],
   "source": [
    "Image(url='q1_command/step1.png')"
   ]
  },
  {
   "cell_type": "markdown",
   "id": "21fecc99",
   "metadata": {},
   "source": [
    "## Step 2\n",
    "I added and pushed the \"README.md\" file in [here](https://github.com/shushuzh/Stats507/blob/master/README.md). I added this file with [this commit](https://github.com/shushuzh/Stats507/commit/bf71244502287d39b7c2fb076f10d9683bc08216). And I figured I put the \"README.md\" file in the wrong directory, thus moving it with [this commit](https://github.com/shushuzh/Stats507/commit/6f453eef843bbddcd1e9cf4b4844efadd958b61c). \n",
    "\n",
    "I included the screenshot of my command line here. "
   ]
  },
  {
   "cell_type": "code",
   "execution_count": 3,
   "id": "d524d59e",
   "metadata": {
    "collapsed": true
   },
   "outputs": [
    {
     "data": {
      "text/html": [
       "<img src=\"q1_command/step2.png\"/>"
      ],
      "text/plain": [
       "<IPython.core.display.Image object>"
      ]
     },
     "execution_count": 3,
     "metadata": {},
     "output_type": "execute_result"
    }
   ],
   "source": [
    "Image(url='q1_command/step2.png')"
   ]
  },
  {
   "cell_type": "markdown",
   "id": "869faffc",
   "metadata": {},
   "source": [
    "## Step 4&5\n",
    "(This one is quite new to me so I am going to report in detail.) I mainly typed the following commands in the terminal:\n",
    "- git branch ps4\\\n",
    "(Create a new branch called \"ps4\".)\n",
    "- git checkout ps4\\\n",
    "(Switch to branch \"ps4\".)\n",
    "- git add ps2_q3.ipynb\\\n",
    "(After I edit the file, I add the change to the branch \"ps4\".)\n",
    "- git commit -m \"include gender in branch ps4\"\n",
    "- git push -u origin ps4\\\n",
    "(Set upstream branch ps4 and push the changes to that branch.)\n",
    "- git checkout master\\\n",
    "(Switch to branch \"master\".)\n",
    "- git merge ps4\\\n",
    "(Merge the commits of branch \"ps4\" to \"master\".)\n",
    "\n",
    "The link to the commit is [here](https://github.com/shushuzh/Stats507/commit/c273d68442fa7aeca522473d6047a6dc012394c7). "
   ]
  },
  {
   "cell_type": "code",
   "execution_count": 4,
   "id": "1ed46bc5",
   "metadata": {
    "collapsed": true
   },
   "outputs": [
    {
     "data": {
      "text/html": [
       "<img src=\"q1_command/step4_5(1).png\"/>"
      ],
      "text/plain": [
       "<IPython.core.display.Image object>"
      ]
     },
     "execution_count": 4,
     "metadata": {},
     "output_type": "execute_result"
    }
   ],
   "source": [
    "Image(url='q1_command/step4_5(1).png')"
   ]
  },
  {
   "cell_type": "code",
   "execution_count": 5,
   "id": "97c51666",
   "metadata": {
    "collapsed": true
   },
   "outputs": [
    {
     "data": {
      "text/html": [
       "<img src=\"q1_command/step4_5(2).png\"/>"
      ],
      "text/plain": [
       "<IPython.core.display.Image object>"
      ]
     },
     "execution_count": 5,
     "metadata": {},
     "output_type": "execute_result"
    }
   ],
   "source": [
    "Image(url='q1_command/step4_5(2).png')"
   ]
  },
  {
   "cell_type": "markdown",
   "id": "f2365286",
   "metadata": {},
   "source": [
    "# Question 2\n",
    "\n",
    "For sub-question 2, the file is [here](https://github.com/shushuzh/Stats507/blob/master/pandas_notes/pd_topic_shushuz.py)."
   ]
  },
  {
   "cell_type": "markdown",
   "id": "f102fb3d",
   "metadata": {},
   "source": [
    "# Question 3\n",
    "The commit for correction of ps1 question 0 is [here](https://github.com/shushuzh/Stats507/commit/7207f1abe3dfb59ea1c9a872ec03fa71582e4e44). "
   ]
  }
 ],
 "metadata": {
  "jupytext": {
   "formats": "ipynb,py:light"
  },
  "kernelspec": {
   "display_name": "Python 3 (ipykernel)",
   "language": "python",
   "name": "python3"
  },
  "language_info": {
   "codemirror_mode": {
    "name": "ipython",
    "version": 3
   },
   "file_extension": ".py",
   "mimetype": "text/x-python",
   "name": "python",
   "nbconvert_exporter": "python",
   "pygments_lexer": "ipython3",
   "version": "3.9.6"
  }
 },
 "nbformat": 4,
 "nbformat_minor": 5
}
