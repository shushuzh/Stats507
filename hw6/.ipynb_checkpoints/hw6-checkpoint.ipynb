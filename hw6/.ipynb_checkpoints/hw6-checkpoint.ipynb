{
 "cells": [
  {
   "cell_type": "code",
   "execution_count": null,
   "id": "1ee513ca",
   "metadata": {},
   "outputs": [],
   "source": []
  },
  {
   "cell_type": "markdown",
   "id": "e0183cf7",
   "metadata": {},
   "source": [
    "# Question 0\n",
    "The repository can be found [here](https://github.com/shushuzh/Stats507.git)."
   ]
  },
  {
   "cell_type": "markdown",
   "id": "6eeff968",
   "metadata": {},
   "source": [
    "# Question 1"
   ]
  },
  {
   "cell_type": "markdown",
   "id": "cc7bf0d4",
   "metadata": {},
   "source": [
    "## Step 1\n",
    "I added and pushed the file in [here](https://github.com/shushuzh/Stats507/blob/master/hw6/ps2_q3.ipynb) under \"hw6\" folder. The commit history for this operation is [here](https://github.com/shushuzh/Stats507/commit/0ce40e75a0c17b3288ea81c5d4aa9e4a3568592a). \n",
    "\n"
   ]
  },
  {
   "cell_type": "code",
   "execution_count": null,
   "id": "b737c341",
   "metadata": {},
   "outputs": [],
   "source": []
  },
  {
   "cell_type": "markdown",
   "id": "f2365286",
   "metadata": {},
   "source": [
    "# Question 2\n",
    "\n",
    "For sub-question 2, the file is [here](https://github.com/shushuzh/Stats507/blob/master/pandas_notes/pd_topic_shushuz.py)."
   ]
  },
  {
   "cell_type": "code",
   "execution_count": null,
   "id": "3a34a31c",
   "metadata": {},
   "outputs": [],
   "source": []
  }
 ],
 "metadata": {
  "jupytext": {
   "formats": "ipynb,py:light"
  },
  "kernelspec": {
   "display_name": "Python 3 (ipykernel)",
   "language": "python",
   "name": "python3"
  },
  "language_info": {
   "codemirror_mode": {
    "name": "ipython",
    "version": 3
   },
   "file_extension": ".py",
   "mimetype": "text/x-python",
   "name": "python",
   "nbconvert_exporter": "python",
   "pygments_lexer": "ipython3",
   "version": "3.9.6"
  }
 },
 "nbformat": 4,
 "nbformat_minor": 5
}
